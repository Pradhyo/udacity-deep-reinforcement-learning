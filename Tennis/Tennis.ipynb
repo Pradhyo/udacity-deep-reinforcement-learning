{
 "cells": [
  {
   "cell_type": "markdown",
   "metadata": {},
   "source": [
    "# Collaboration and Competition\n",
    "\n",
    "---\n",
    "\n",
    "You are welcome to use this coding environment to train your agent for the project.  Follow the instructions below to get started!\n",
    "\n",
    "### 1. Start the Environment\n",
    "\n",
    "Run the next code cell to install a few packages.  This line will take a few minutes to run!"
   ]
  },
  {
   "cell_type": "code",
   "execution_count": 1,
   "metadata": {},
   "outputs": [],
   "source": [
    "!pip -q install ./python"
   ]
  },
  {
   "cell_type": "markdown",
   "metadata": {},
   "source": [
    "The environment is already saved in the Workspace and can be accessed at the file path provided below. "
   ]
  },
  {
   "cell_type": "code",
   "execution_count": 2,
   "metadata": {},
   "outputs": [
    {
     "name": "stderr",
     "output_type": "stream",
     "text": [
      "INFO:unityagents:\n",
      "'Academy' started successfully!\n",
      "Unity Academy name: Academy\n",
      "        Number of Brains: 1\n",
      "        Number of External Brains : 1\n",
      "        Lesson number : 0\n",
      "        Reset Parameters :\n",
      "\t\t\n",
      "Unity brain name: TennisBrain\n",
      "        Number of Visual Observations (per agent): 0\n",
      "        Vector Observation space type: continuous\n",
      "        Vector Observation space size (per agent): 8\n",
      "        Number of stacked Vector Observation: 3\n",
      "        Vector Action space type: continuous\n",
      "        Vector Action space size (per agent): 2\n",
      "        Vector Action descriptions: , \n"
     ]
    }
   ],
   "source": [
    "from unityagents import UnityEnvironment\n",
    "import numpy as np\n",
    "\n",
    "env = UnityEnvironment(file_name=\"/data/Tennis_Linux_NoVis/Tennis\")"
   ]
  },
  {
   "cell_type": "markdown",
   "metadata": {},
   "source": [
    "Environments contain **_brains_** which are responsible for deciding the actions of their associated agents. Here we check for the first brain available, and set it as the default brain we will be controlling from Python."
   ]
  },
  {
   "cell_type": "code",
   "execution_count": 3,
   "metadata": {},
   "outputs": [],
   "source": [
    "# get the default brain\n",
    "brain_name = env.brain_names[0]\n",
    "brain = env.brains[brain_name]"
   ]
  },
  {
   "cell_type": "markdown",
   "metadata": {},
   "source": [
    "### 2. Examine the State and Action Spaces\n",
    "\n",
    "Run the code cell below to print some information about the environment."
   ]
  },
  {
   "cell_type": "code",
   "execution_count": 4,
   "metadata": {},
   "outputs": [
    {
     "name": "stdout",
     "output_type": "stream",
     "text": [
      "Number of agents: 2\n",
      "Size of each action: 2\n",
      "There are 2 agents. Each observes a state with length: 24\n",
      "The state for the first agent looks like: [ 0.          0.          0.          0.          0.          0.          0.\n",
      "  0.          0.          0.          0.          0.          0.          0.\n",
      "  0.          0.         -6.65278625 -1.5        -0.          0.\n",
      "  6.83172083  6.         -0.          0.        ]\n"
     ]
    }
   ],
   "source": [
    "# reset the environment\n",
    "env_info = env.reset(train_mode=True)[brain_name]\n",
    "\n",
    "# number of agents \n",
    "num_agents = len(env_info.agents)\n",
    "print('Number of agents:', num_agents)\n",
    "\n",
    "# size of each action\n",
    "action_size = brain.vector_action_space_size\n",
    "print('Size of each action:', action_size)\n",
    "\n",
    "# examine the state space \n",
    "states = env_info.vector_observations\n",
    "state_size = states.shape[1]\n",
    "print('There are {} agents. Each observes a state with length: {}'.format(states.shape[0], state_size))\n",
    "print('The state for the first agent looks like:', states[0])"
   ]
  },
  {
   "cell_type": "markdown",
   "metadata": {},
   "source": [
    "### 3. Take Random Actions in the Environment\n",
    "\n",
    "In the next code cell, you will learn how to use the Python API to control the agent and receive feedback from the environment.\n",
    "\n",
    "Note that **in this coding environment, you will not be able to watch the agents while they are training**, and you should set `train_mode=True` to restart the environment."
   ]
  },
  {
   "cell_type": "code",
   "execution_count": 5,
   "metadata": {},
   "outputs": [
    {
     "name": "stdout",
     "output_type": "stream",
     "text": [
      "Total score (averaged over agents) this episode: -0.004999999888241291\n",
      "Total score (averaged over agents) this episode: -0.004999999888241291\n",
      "Total score (averaged over agents) this episode: 0.04500000085681677\n",
      "Total score (averaged over agents) this episode: -0.004999999888241291\n",
      "Total score (averaged over agents) this episode: -0.004999999888241291\n"
     ]
    }
   ],
   "source": [
    "for i in range(5):                                         # play game for 5 episodes\n",
    "    env_info = env.reset(train_mode=False)[brain_name]     # reset the environment    \n",
    "    states = env_info.vector_observations                  # get the current state (for each agent)\n",
    "    scores = np.zeros(num_agents)                          # initialize the score (for each agent)\n",
    "    while True:\n",
    "        actions = np.random.randn(num_agents, action_size) # select an action (for each agent)\n",
    "        actions = np.clip(actions, -1, 1)                  # all actions between -1 and 1\n",
    "        env_info = env.step(actions)[brain_name]           # send all actions to tne environment\n",
    "        next_states = env_info.vector_observations         # get next state (for each agent)\n",
    "        rewards = env_info.rewards                         # get reward (for each agent)\n",
    "        dones = env_info.local_done                        # see if episode finished\n",
    "        scores += env_info.rewards                         # update the score (for each agent)\n",
    "        states = next_states                               # roll over states to next time step\n",
    "        if np.any(dones):                                  # exit loop if episode finished\n",
    "            break\n",
    "    print('Total score (averaged over agents) this episode: {}'.format(np.mean(scores)))"
   ]
  },
  {
   "cell_type": "markdown",
   "metadata": {},
   "source": [
    "### 4. Training an agent with MADDPG"
   ]
  },
  {
   "cell_type": "code",
   "execution_count": 6,
   "metadata": {},
   "outputs": [],
   "source": [
    "import torch\n",
    "from collections import deque\n",
    "import matplotlib.pyplot as plt\n",
    "%matplotlib inline\n",
    "from datetime import datetime\n",
    "\n",
    "from multi_agent import MultiAgent\n",
    "\n",
    "multi_agent = MultiAgent(num_agents=num_agents, state_size=state_size, action_size=action_size, random_seed=2)"
   ]
  },
  {
   "cell_type": "code",
   "execution_count": 7,
   "metadata": {},
   "outputs": [],
   "source": [
    "def maddpg(n_episodes=10000, max_t=1000, print_every=20):\n",
    "    scores_deque = deque(maxlen=100)\n",
    "    scores = []\n",
    "    \n",
    "    with open(\"progress.txt\", \"w\") as f: \n",
    "        f.write('Starting training at ' + datetime.now().ctime() + '\\n\\n') \n",
    "    \n",
    "    for i_episode in range(1, n_episodes+1):\n",
    "        env_info = env.reset(train_mode=True)[brain_name]         # reset the environment\n",
    "        states = env_info.vector_observations\n",
    "        multi_agent.reset()\n",
    "        curr_scores = np.zeros(num_agents)\n",
    "\n",
    "        for t in range(max_t):\n",
    "            actions = multi_agent.act(states)\n",
    "            env_info = env.step(actions)[brain_name]\n",
    "            next_states = env_info.vector_observations\n",
    "            rewards = env_info.rewards\n",
    "            dones = env_info.local_done\n",
    "\n",
    "            multi_agent.step(states, actions, rewards, next_states, dones)\n",
    "\n",
    "            curr_scores += np.max(rewards)\n",
    "            states = next_states\n",
    "            if np.any(dones):\n",
    "                break\n",
    "\n",
    "        score = np.max(curr_scores)\n",
    "        scores_deque.append(score)\n",
    "        scores.append(score)\n",
    "        print('\\rEpisode {}\\tAverage Score: {:.3f}\\tScore: {:.3f}\\t'.format(i_episode, np.mean(scores_deque), score), end=\"\")\n",
    "\n",
    "        if i_episode % print_every == 0:\n",
    "            print('\\rEpisode {}\\tAverage Score: {:.3f}\\tScore: {:.3f}'.format(i_episode, np.mean(scores_deque), score))\n",
    "\n",
    "        if np.mean(scores_deque)>=checkpoints[0]:\n",
    "            checkpoint_status = '\\rCheckpoint for average score {:.2f} after {:d} episodes!'.format(np.mean(scores_deque), i_episode-100)\n",
    "            print(checkpoint_status)\n",
    "            with open(\"progress.txt\", \"a\") as f: \n",
    "                f.write(checkpoint_status+'\\n') \n",
    "            torch.save(multi_agent.agents[0].actor_local.state_dict(), 'checkpoint_actor_0.pth')\n",
    "            torch.save(multi_agent.agents[1].actor_local.state_dict(), 'checkpoint_actor_1.pth')\n",
    "            torch.save(multi_agent.agents[0].critic_local.state_dict(), 'checkpoint_critic_0.pth')\n",
    "            torch.save(multi_agent.agents[1].critic_local.state_dict(), 'checkpoint_critic_1.pth')\n",
    "\n",
    "            checkpoints.pop(0)\n",
    "            if not len(checkpoints):\n",
    "                with open(\"progress.txt\", \"a\") as f:  \n",
    "                    f.write('\\n\\nCompleted training at ' + datetime.now().ctime())                 \n",
    "                break\n",
    "\n",
    "    return scores\n",
    "\n",
    "def plot_scores(scores):\n",
    "    fig = plt.figure()\n",
    "    ax = fig.add_subplot(111)\n",
    "    plt.plot(np.arange(1, len(scores)+1), scores)\n",
    "    plt.ylabel('Score')\n",
    "    plt.xlabel('Episode #')\n",
    "    plt.show()"
   ]
  },
  {
   "cell_type": "code",
   "execution_count": 8,
   "metadata": {},
   "outputs": [
    {
     "name": "stdout",
     "output_type": "stream",
     "text": [
      "Checkpoint for average score 0.10 after -99 episodes!\n",
      "Episode 20\tAverage Score: 0.005\tScore: 0.000\t\n",
      "Episode 40\tAverage Score: 0.003\tScore: 0.000\t\n",
      "Episode 60\tAverage Score: 0.002\tScore: 0.000\t\n",
      "Episode 80\tAverage Score: 0.001\tScore: 0.000\t\n",
      "Episode 100\tAverage Score: 0.001\tScore: 0.000\t\n",
      "Episode 120\tAverage Score: 0.000\tScore: 0.000\t\n",
      "Episode 140\tAverage Score: 0.000\tScore: 0.000\t\n",
      "Episode 160\tAverage Score: 0.000\tScore: 0.000\t\n",
      "Episode 180\tAverage Score: 0.000\tScore: 0.000\t\n",
      "Episode 200\tAverage Score: 0.001\tScore: 0.000\t\n",
      "Episode 220\tAverage Score: 0.004\tScore: 0.000\t\n",
      "Episode 240\tAverage Score: 0.004\tScore: 0.000\t\n",
      "Episode 260\tAverage Score: 0.004\tScore: 0.000\t\n",
      "Episode 280\tAverage Score: 0.004\tScore: 0.000\t\n",
      "Episode 300\tAverage Score: 0.003\tScore: 0.000\t\n",
      "Episode 320\tAverage Score: 0.004\tScore: 0.100\t\n",
      "Episode 340\tAverage Score: 0.010\tScore: 0.000\t\n",
      "Episode 360\tAverage Score: 0.018\tScore: 0.100\t\n",
      "Episode 380\tAverage Score: 0.027\tScore: 0.000\t\n",
      "Episode 400\tAverage Score: 0.036\tScore: 0.100\t\n",
      "Episode 420\tAverage Score: 0.036\tScore: 0.000\t\n",
      "Episode 440\tAverage Score: 0.031\tScore: 0.000\t\n",
      "Episode 460\tAverage Score: 0.027\tScore: 0.000\t\n",
      "Episode 480\tAverage Score: 0.022\tScore: 0.000\t\n",
      "Episode 500\tAverage Score: 0.033\tScore: 0.000\t\n",
      "Episode 520\tAverage Score: 0.053\tScore: 0.100\t\n",
      "Episode 540\tAverage Score: 0.083\tScore: 0.200\t\n",
      "Episode 560\tAverage Score: 0.115\tScore: 0.200\t\n",
      "Episode 580\tAverage Score: 0.177\tScore: 0.500\t\n",
      "Episode 600\tAverage Score: 0.196\tScore: 0.800\t\n",
      "Checkpoint for average score 0.20 after 510 episodes!\n",
      "Episode 620\tAverage Score: 0.208\tScore: 0.100\t\n",
      "Episode 640\tAverage Score: 0.208\tScore: 0.300\t\n",
      "Episode 660\tAverage Score: 0.206\tScore: 0.200\t\n",
      "Episode 680\tAverage Score: 0.187\tScore: 0.200\t\n",
      "Episode 700\tAverage Score: 0.201\tScore: 0.100\t\n",
      "Episode 720\tAverage Score: 0.229\tScore: 0.200\t\n",
      "Episode 740\tAverage Score: 0.247\tScore: 0.300\t\n",
      "Episode 760\tAverage Score: 0.290\tScore: 1.800\t\n",
      "Episode 780\tAverage Score: 0.275\tScore: 0.000\t\n",
      "Episode 800\tAverage Score: 0.295\tScore: 0.100\t\n",
      "Checkpoint for average score 0.31 after 703 episodes!\n",
      "Episode 820\tAverage Score: 0.309\tScore: 1.000\t\n",
      "Episode 840\tAverage Score: 0.313\tScore: 0.600\t\n",
      "Episode 860\tAverage Score: 0.355\tScore: 0.600\t\n",
      "Checkpoint for average score 0.40 after 775 episodes!\n",
      "Episode 880\tAverage Score: 0.427\tScore: 1.200\t\n",
      "Episode 900\tAverage Score: 0.429\tScore: 0.600\t\n",
      "Episode 920\tAverage Score: 0.463\tScore: 0.100\t\n",
      "Checkpoint for average score 0.50 after 836 episodes!\n"
     ]
    },
    {
     "data": {
      "image/png": "[encoded data removed]",
      "text/plain": [
       "<matplotlib.figure.Figure at 0x7faef45ee320>"
      ]
     },
     "metadata": {
      "needs_background": "light"
     },
     "output_type": "display_data"
    }
   ],
   "source": [
    "target_score = 0.5\n",
    "\n",
    "# five checkpoints to store models - last one is the target score\n",
    "checkpoints = list(np.linspace(0,target_score,6))[1:]\n",
    "\n",
    "scores = maddpg()\n",
    "plot_scores(scores)\n"
   ]
  },
  {
   "cell_type": "code",
   "execution_count": 9,
   "metadata": {},
   "outputs": [],
   "source": [
    "import pickle\n",
    "\n",
    "with open('scores', 'wb') as fp:\n",
    "    pickle.dump(scores, fp)"
   ]
  },
  {
   "cell_type": "code",
   "execution_count": null,
   "metadata": {},
   "outputs": [],
   "source": []
  },
  {
   "cell_type": "code",
   "execution_count": null,
   "metadata": {},
   "outputs": [],
   "source": []
  }
 ],
 "metadata": {
  "kernelspec": {
   "display_name": "Python 3",
   "language": "python",
   "name": "python3"
  },
  "language_info": {
   "codemirror_mode": {
    "name": "ipython",
    "version": 3
   },
   "file_extension": ".py",
   "mimetype": "text/x-python",
   "name": "python",
   "nbconvert_exporter": "python",
   "pygments_lexer": "ipython3",
   "version": "3.6.3"
  }
 },
 "nbformat": 4,
 "nbformat_minor": 2
}
